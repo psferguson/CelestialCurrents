{
 "cells": [
  {
   "cell_type": "code",
   "execution_count": 1,
   "id": "4d48dc3c-3002-45fd-aeef-41e0d0017537",
   "metadata": {},
   "outputs": [],
   "source": [
    "# std lib\n",
    "from getpass import getpass\n",
    "\n",
    "# 3rd party\n",
    "import numpy as np\n",
    "import pylab as plt\n",
    "import fitsio\n",
    "%matplotlib inline\n",
    "\n",
    "# Data Lab with pip install --ignore-installed --no-cache-dir astro-datalab \n",
    "# from https://github.com/astro-datalab/datalab \n",
    "from dl import authClient as ac, queryClient as qc, storeClient as sc\n",
    "from dl.helpers.utils import convert"
   ]
  },
  {
   "cell_type": "code",
   "execution_count": 2,
   "id": "8a47c03e-5119-48f1-b189-0b460cee17b5",
   "metadata": {},
   "outputs": [
    {
     "name": "stdin",
     "output_type": "stream",
     "text": [
      "Enter user name (+ENTER):  peter_ferguson\n",
      "Enter password (+ENTER):  ········\n"
     ]
    }
   ],
   "source": [
    "# here we can use the 'anonymous' user name, and an empty password\n",
    "token = ac.login(input('Enter user name (+ENTER): '),getpass('Enter password (+ENTER): '))"
   ]
  },
  {
   "cell_type": "code",
   "execution_count": 3,
   "id": "9abbee64-7524-448e-95f1-75e6a5400d3f",
   "metadata": {},
   "outputs": [],
   "source": [
    "# add more if you need them\n",
    "out_columns = ['alphawin_j2000', 'deltawin_j2000', 'coadd_object_id', 'extended_class_coadd']\n",
    "for band in ['g','r','i','z']:\n",
    "    out_columns.append(f'wavg_mag_psf_{band}')\n",
    "    out_columns.append(f'wavg_magerr_psf_{band}')\n",
    "    out_columns.append(f'wavg_mag_psf_{band}_dered')\n",
    "ra_lim_max = 40\n",
    "ra_lim_min = 8\n",
    "dec_lim_min = -40\n",
    "dec_lim_max = -20"
   ]
  },
  {
   "cell_type": "code",
   "execution_count": null,
   "id": "b3ddcb60-04e1-4506-b68a-146015d4ccd4",
   "metadata": {},
   "outputs": [
    {
     "name": "stdout",
     "output_type": "stream",
     "text": [
      "querying 8 < ra <= 13\n",
      "querying 13 < ra <= 18\n",
      "querying 18 < ra <= 23\n",
      "querying 23 < ra <= 28\n",
      "querying 28 < ra <= 33\n"
     ]
    }
   ],
   "source": [
    "for ra_min in np.arange(ra_lim_min,ra_lim_max + 5, 5):\n",
    "    if ra_min > ra_lim_max:\n",
    "        continue\n",
    "    ra_max = np.min([ra_min + 5, ra_lim_max])\n",
    "    \n",
    "    print(f'querying {ra_min} < ra <= {ra_max}')\n",
    "    query =\\\n",
    "    f\"\"\"\n",
    "    select {', '.join(out_columns)}\n",
    "    from des_dr2.main\n",
    "    where dec > {dec_lim_min} and dec <= {dec_lim_max}\n",
    "    and ra > {ra_min} and ra <= {ra_max}\n",
    "    and extended_class_coadd < 2\n",
    "    and extended_class_coadd > -1\n",
    "    and g_r >= 0\n",
    "    and g_r <= 1\n",
    "    and wavg_mag_psf_g < 30\n",
    "    and flags_g < 4\n",
    "    and flags_r < 4\n",
    "    \"\"\"\n",
    "    res = qc.query(token,sql=query,\n",
    "                   fmt='fits',\n",
    "                   out=f'des_dr2_stars_ra_{ra_min}_{ra_max}_dec_m40_m20.fits', \n",
    "                   #async_=True, poll=30, verbose=True, wait=True\n",
    "                  )\n",
    "print(\"done\")"
   ]
  },
  {
   "cell_type": "code",
   "execution_count": 25,
   "id": "dc945b29-ee3f-41f9-94a7-1fe43b1d4fc4",
   "metadata": {},
   "outputs": [],
   "source": []
  },
  {
   "cell_type": "code",
   "execution_count": 41,
   "id": "e304c460-aa74-467b-8589-277614f9df81",
   "metadata": {},
   "outputs": [],
   "source": [
    "dat=fitsio.read('./des_dr2_stars_ra_33_38_dec_m40_m20.fits')"
   ]
  },
  {
   "cell_type": "code",
   "execution_count": 42,
   "id": "65429e87-1564-4b04-95ec-f7f753302f33",
   "metadata": {},
   "outputs": [
    {
     "data": {
      "text/plain": [
       "(903215,)"
      ]
     },
     "execution_count": 42,
     "metadata": {},
     "output_type": "execute_result"
    }
   ],
   "source": [
    "dat.shape"
   ]
  },
  {
   "cell_type": "code",
   "execution_count": 43,
   "id": "ec990247-4609-46c0-bedd-8695bf87661b",
   "metadata": {},
   "outputs": [
    {
     "data": {
      "text/plain": [
       "600"
      ]
     },
     "execution_count": 43,
     "metadata": {},
     "output_type": "execute_result"
    }
   ],
   "source": [
    "20*30"
   ]
  },
  {
   "cell_type": "code",
   "execution_count": null,
   "id": "a8da1eb0-834e-488d-b33d-a2b98a070127",
   "metadata": {},
   "outputs": [],
   "source": []
  }
 ],
 "metadata": {
  "kernelspec": {
   "display_name": "Python 3 (ipykernel)",
   "language": "python",
   "name": "python3"
  },
  "language_info": {
   "codemirror_mode": {
    "name": "ipython",
    "version": 3
   },
   "file_extension": ".py",
   "mimetype": "text/x-python",
   "name": "python",
   "nbconvert_exporter": "python",
   "pygments_lexer": "ipython3",
   "version": "3.11.8"
  }
 },
 "nbformat": 4,
 "nbformat_minor": 5
}
